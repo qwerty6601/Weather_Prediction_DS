{
 "cells": [
  {
   "cell_type": "code",
   "execution_count": 52,
   "metadata": {},
   "outputs": [],
   "source": [
    "import pandas as pd\n",
    "from sklearn.linear_model import LinearRegression\n",
    "from sklearn.ensemble import RandomForestRegressor\n",
    "from sklearn.neural_network import MLPRegressor\n",
    "from sklearn.model_selection import cross_val_score"
   ]
  },
  {
   "cell_type": "code",
   "execution_count": 61,
   "metadata": {},
   "outputs": [],
   "source": [
    "ModelsDict={}\n",
    "ModelsDict['linreg'] = LinearRegression()\n",
    "ModelsDict['RF'] = RandomForestRegressor(n_estimators=150, max_depth=15)\n",
    "ModelsDict['MLP'] = MLPRegressor(solver = 'sgd', max_iter=1500)"
   ]
  },
  {
   "cell_type": "code",
   "execution_count": 68,
   "metadata": {},
   "outputs": [],
   "source": [
    "TargetList=['Max_temp', 'Min_temp', 'Mean_temp'] #possible targets of prediction\n",
    "FeatureList=['allfeatures', 'onlytempfeatures', 'wind_rainfeatures'] #possible features to use for prediction"
   ]
  },
  {
   "cell_type": "code",
   "execution_count": 96,
   "metadata": {},
   "outputs": [],
   "source": [
    "ModelScores={}\n",
    "def RunModel(model, daynum, f, temp):\n",
    "    df = pd.read_csv(f'./preprocessed/{daynum}daysprev_{f}_{temp}.csv')\n",
    "    todrop=['Unnamed: 0']\n",
    "    df = df.drop(todrop, axis = 1)\n",
    "    inputlist = df.columns.tolist()\n",
    "    target = inputlist[-1]\n",
    "    del inputlist[-1] # deleting target from input variables\n",
    "    inputvar = df[inputlist]\n",
    "    tar = df[target]\n",
    "    #print(cross_val_score(model, inputvar, tar, scoring='neg_mean_absolute_error', cv=10).mean())\n",
    "    \n",
    "    ModelScores[f'Error of {temp} predicted by {model} from {f} using {daynum} days before'] = cross_val_score(model, inputvar, tar, scoring='neg_mean_absolute_error', cv=10).mean()\n"
   ]
  },
  {
   "cell_type": "markdown",
   "metadata": {},
   "source": [
    "Sample usage of RunModel: RunModel(model = ML model to run, daynum= nr of days before target to take into account, f = what features to consider (all/onlytemp/wind_rain, see in FeatureList), temp = what temperature we want to predict (min, max or mean, see TargetList for potential values))\n",
    "\n",
    "\n",
    "output: average of 10-fold cross validation of mean absolute errors stored in a dictionary called ModelScores"
   ]
  },
  {
   "cell_type": "code",
   "execution_count": 97,
   "metadata": {},
   "outputs": [],
   "source": [
    "for model in ModelsDict.values():\n",
    "    RunModel(model, 3, 'allfeatures', 'Mean_temp')"
   ]
  },
  {
   "cell_type": "code",
   "execution_count": 98,
   "metadata": {},
   "outputs": [
    {
     "data": {
      "text/plain": [
       "{'Error of Mean_temp predicted by LinearRegression() from allfeatures using 3 days before': -0.17003125559235294,\n",
       " 'Error of Mean_temp predicted by RandomForestRegressor(max_depth=15, n_estimators=150) from allfeatures using 3 days before': -0.1796522382745067,\n",
       " \"Error of Mean_temp predicted by MLPRegressor(max_iter=1500, solver='sgd') from allfeatures using 3 days before\": -0.19473838900401425}"
      ]
     },
     "execution_count": 98,
     "metadata": {},
     "output_type": "execute_result"
    }
   ],
   "source": [
    "ModelScores"
   ]
  }
 ],
 "metadata": {
  "kernelspec": {
   "display_name": "Python 3.8.8 ('base')",
   "language": "python",
   "name": "python3"
  },
  "language_info": {
   "codemirror_mode": {
    "name": "ipython",
    "version": 3
   },
   "file_extension": ".py",
   "mimetype": "text/x-python",
   "name": "python",
   "nbconvert_exporter": "python",
   "pygments_lexer": "ipython3",
   "version": "3.8.8"
  },
  "orig_nbformat": 4,
  "vscode": {
   "interpreter": {
    "hash": "52629beb9320ba2fd05c0e8be3925995090a58339b44f134217c54ba794dd7da"
   }
  }
 },
 "nbformat": 4,
 "nbformat_minor": 2
}
