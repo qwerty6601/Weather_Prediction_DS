{
 "cells": [
  {
   "cell_type": "code",
   "execution_count": 1,
   "metadata": {},
   "outputs": [],
   "source": [
    "import pandas as pd\n",
    "from sklearn.linear_model import LinearRegression\n",
    "from sklearn.ensemble import RandomForestRegressor\n",
    "from sklearn.neural_network import MLPRegressor\n",
    "from sklearn.model_selection import cross_val_score"
   ]
  },
  {
   "cell_type": "code",
   "execution_count": 2,
   "metadata": {},
   "outputs": [],
   "source": [
    "ModelsDict={}\n",
    "ModelsDict['linreg'] = LinearRegression()\n",
    "ModelsDict['RF'] = RandomForestRegressor(n_estimators=150, max_depth=15)\n",
    "ModelsDict['MLP'] = MLPRegressor(solver = 'sgd', max_iter=1500)"
   ]
  },
  {
   "cell_type": "code",
   "execution_count": 3,
   "metadata": {},
   "outputs": [],
   "source": [
    "TargetList=['Max_temp', 'Min_temp', 'Mean_temp'] #possible targets of prediction\n",
    "FeatureList=['allfeatures', 'onlytempfeatures', 'wind_rainfeatures'] #possible features to use for prediction"
   ]
  },
  {
   "cell_type": "code",
   "execution_count": 37,
   "metadata": {},
   "outputs": [],
   "source": [
    "#ModelScores={}\n",
    "\n",
    "errdf = pd.DataFrame(columns=['model', 'daynum', 'feature', 'target', 'error'])\n",
    "#errdf.columns = ['model', 'daynum', 'feature', 'target', 'error']\n",
    "\n",
    "def RunModel(rownum, model, daynum, f, temp):\n",
    "    df = pd.read_csv(f'./preprocessed/{daynum}daysprev_{f}_{temp}.csv')\n",
    "    todrop=['Unnamed: 0']\n",
    "    df = df.drop(todrop, axis = 1)\n",
    "    inputlist = df.columns.tolist()\n",
    "    target = inputlist[-1]\n",
    "    del inputlist[-1] # deleting target from input variables\n",
    "    inputvar = df[inputlist]\n",
    "    tar = df[target]\n",
    "    #print(cross_val_score(model, inputvar, tar, scoring='neg_mean_absolute_error', cv=10).mean())\n",
    "    \n",
    "    errval = cross_val_score(model, inputvar, tar, scoring='neg_mean_absolute_error', cv=10).mean()\n",
    "\n",
    "    errdf.loc[rownum] = pd.Series({'model':str(model), 'daynum':daynum, 'feature':f, 'target':temp, 'error':errval})\n",
    "    #ModelScores[f'Error of {temp} predicted by {model} from {f} using {daynum} days before'] = cross_val_score(model, inputvar, tar, scoring='neg_mean_absolute_error', cv=10).mean()\n"
   ]
  },
  {
   "cell_type": "markdown",
   "metadata": {},
   "source": [
    "Sample usage of RunModel: RunModel(model = ML model to run, daynum= nr of days before target to take into account, f = what features to consider (all/onlytemp/wind_rain, see in FeatureList), temp = what temperature we want to predict (min, max or mean, see TargetList for potential values))\n",
    "\n",
    "\n",
    "output: average of 10-fold cross validation of mean absolute errors stored in a dictionary called ModelScores"
   ]
  },
  {
   "cell_type": "code",
   "execution_count": 40,
   "metadata": {},
   "outputs": [
    {
     "name": "stdout",
     "output_type": "stream",
     "text": [
      "0\n",
      "1\n",
      "2\n",
      "3\n",
      "4\n",
      "5\n",
      "6\n",
      "7\n",
      "LinearRegression()\n",
      "0\n",
      "1\n",
      "2\n",
      "3\n",
      "4\n",
      "5\n",
      "6\n",
      "7\n",
      "RandomForestRegressor(max_depth=15, n_estimators=150)\n",
      "0\n",
      "1\n",
      "2\n",
      "3\n",
      "4\n",
      "5\n"
     ]
    },
    {
     "name": "stderr",
     "output_type": "stream",
     "text": [
      "C:\\ProgramData\\Anaconda3\\lib\\site-packages\\sklearn\\neural_network\\_multilayer_perceptron.py:692: ConvergenceWarning: Stochastic Optimizer: Maximum iterations (1500) reached and the optimization hasn't converged yet.\n",
      "  warnings.warn(\n",
      "C:\\ProgramData\\Anaconda3\\lib\\site-packages\\sklearn\\neural_network\\_multilayer_perceptron.py:692: ConvergenceWarning: Stochastic Optimizer: Maximum iterations (1500) reached and the optimization hasn't converged yet.\n",
      "  warnings.warn(\n",
      "C:\\ProgramData\\Anaconda3\\lib\\site-packages\\sklearn\\neural_network\\_multilayer_perceptron.py:692: ConvergenceWarning: Stochastic Optimizer: Maximum iterations (1500) reached and the optimization hasn't converged yet.\n",
      "  warnings.warn(\n"
     ]
    },
    {
     "name": "stdout",
     "output_type": "stream",
     "text": [
      "6\n"
     ]
    },
    {
     "name": "stderr",
     "output_type": "stream",
     "text": [
      "C:\\ProgramData\\Anaconda3\\lib\\site-packages\\sklearn\\neural_network\\_multilayer_perceptron.py:692: ConvergenceWarning: Stochastic Optimizer: Maximum iterations (1500) reached and the optimization hasn't converged yet.\n",
      "  warnings.warn(\n",
      "C:\\ProgramData\\Anaconda3\\lib\\site-packages\\sklearn\\neural_network\\_multilayer_perceptron.py:692: ConvergenceWarning: Stochastic Optimizer: Maximum iterations (1500) reached and the optimization hasn't converged yet.\n",
      "  warnings.warn(\n",
      "C:\\ProgramData\\Anaconda3\\lib\\site-packages\\sklearn\\neural_network\\_multilayer_perceptron.py:692: ConvergenceWarning: Stochastic Optimizer: Maximum iterations (1500) reached and the optimization hasn't converged yet.\n",
      "  warnings.warn(\n",
      "C:\\ProgramData\\Anaconda3\\lib\\site-packages\\sklearn\\neural_network\\_multilayer_perceptron.py:692: ConvergenceWarning: Stochastic Optimizer: Maximum iterations (1500) reached and the optimization hasn't converged yet.\n",
      "  warnings.warn(\n",
      "C:\\ProgramData\\Anaconda3\\lib\\site-packages\\sklearn\\neural_network\\_multilayer_perceptron.py:692: ConvergenceWarning: Stochastic Optimizer: Maximum iterations (1500) reached and the optimization hasn't converged yet.\n",
      "  warnings.warn(\n",
      "C:\\ProgramData\\Anaconda3\\lib\\site-packages\\sklearn\\neural_network\\_multilayer_perceptron.py:692: ConvergenceWarning: Stochastic Optimizer: Maximum iterations (1500) reached and the optimization hasn't converged yet.\n",
      "  warnings.warn(\n",
      "C:\\ProgramData\\Anaconda3\\lib\\site-packages\\sklearn\\neural_network\\_multilayer_perceptron.py:692: ConvergenceWarning: Stochastic Optimizer: Maximum iterations (1500) reached and the optimization hasn't converged yet.\n",
      "  warnings.warn(\n",
      "C:\\ProgramData\\Anaconda3\\lib\\site-packages\\sklearn\\neural_network\\_multilayer_perceptron.py:692: ConvergenceWarning: Stochastic Optimizer: Maximum iterations (1500) reached and the optimization hasn't converged yet.\n",
      "  warnings.warn(\n",
      "C:\\ProgramData\\Anaconda3\\lib\\site-packages\\sklearn\\neural_network\\_multilayer_perceptron.py:692: ConvergenceWarning: Stochastic Optimizer: Maximum iterations (1500) reached and the optimization hasn't converged yet.\n",
      "  warnings.warn(\n",
      "C:\\ProgramData\\Anaconda3\\lib\\site-packages\\sklearn\\neural_network\\_multilayer_perceptron.py:692: ConvergenceWarning: Stochastic Optimizer: Maximum iterations (1500) reached and the optimization hasn't converged yet.\n",
      "  warnings.warn(\n",
      "C:\\ProgramData\\Anaconda3\\lib\\site-packages\\sklearn\\neural_network\\_multilayer_perceptron.py:692: ConvergenceWarning: Stochastic Optimizer: Maximum iterations (1500) reached and the optimization hasn't converged yet.\n",
      "  warnings.warn(\n",
      "C:\\ProgramData\\Anaconda3\\lib\\site-packages\\sklearn\\neural_network\\_multilayer_perceptron.py:692: ConvergenceWarning: Stochastic Optimizer: Maximum iterations (1500) reached and the optimization hasn't converged yet.\n",
      "  warnings.warn(\n",
      "C:\\ProgramData\\Anaconda3\\lib\\site-packages\\sklearn\\neural_network\\_multilayer_perceptron.py:692: ConvergenceWarning: Stochastic Optimizer: Maximum iterations (1500) reached and the optimization hasn't converged yet.\n",
      "  warnings.warn(\n",
      "C:\\ProgramData\\Anaconda3\\lib\\site-packages\\sklearn\\neural_network\\_multilayer_perceptron.py:692: ConvergenceWarning: Stochastic Optimizer: Maximum iterations (1500) reached and the optimization hasn't converged yet.\n",
      "  warnings.warn(\n",
      "C:\\ProgramData\\Anaconda3\\lib\\site-packages\\sklearn\\neural_network\\_multilayer_perceptron.py:692: ConvergenceWarning: Stochastic Optimizer: Maximum iterations (1500) reached and the optimization hasn't converged yet.\n",
      "  warnings.warn(\n",
      "C:\\ProgramData\\Anaconda3\\lib\\site-packages\\sklearn\\neural_network\\_multilayer_perceptron.py:692: ConvergenceWarning: Stochastic Optimizer: Maximum iterations (1500) reached and the optimization hasn't converged yet.\n",
      "  warnings.warn(\n"
     ]
    },
    {
     "name": "stdout",
     "output_type": "stream",
     "text": [
      "7\n",
      "MLPRegressor(max_iter=1500, solver='sgd')\n"
     ]
    },
    {
     "data": {
      "text/plain": [
       "\"\\nfor model in ModelsDict.values():\\n    for daysprev in range(7):\\n        #for target in TargetList:\\n        #for feature in FeatureList.values():\\n        RunModel(model, daysprev, 'allfeatures', 'Max_temp')\\n\""
      ]
     },
     "execution_count": 40,
     "metadata": {},
     "output_type": "execute_result"
    }
   ],
   "source": [
    "#ModelScores={}\n",
    "\n",
    "rowcounter = 0\n",
    "\n",
    "for model in ModelsDict.values():\n",
    "    for daysprev in range(8):\n",
    "        for target in TargetList:\n",
    "            for feature in FeatureList:\n",
    "                RunModel(rowcounter, model, daysprev, feature, target)\n",
    "                rowcounter = rowcounter+1\n",
    "        print(daysprev)\n",
    "    print(str(model))\n",
    "\n",
    "'''\n",
    "for model in ModelsDict.values():\n",
    "    for daysprev in range(7):\n",
    "        #for target in TargetList:\n",
    "        #for feature in FeatureList.values():\n",
    "        RunModel(model, daysprev, 'allfeatures', 'Max_temp')\n",
    "'''"
   ]
  },
  {
   "cell_type": "code",
   "execution_count": 42,
   "metadata": {},
   "outputs": [
    {
     "data": {
      "text/html": [
       "<div>\n",
       "<style scoped>\n",
       "    .dataframe tbody tr th:only-of-type {\n",
       "        vertical-align: middle;\n",
       "    }\n",
       "\n",
       "    .dataframe tbody tr th {\n",
       "        vertical-align: top;\n",
       "    }\n",
       "\n",
       "    .dataframe thead th {\n",
       "        text-align: right;\n",
       "    }\n",
       "</style>\n",
       "<table border=\"1\" class=\"dataframe\">\n",
       "  <thead>\n",
       "    <tr style=\"text-align: right;\">\n",
       "      <th></th>\n",
       "      <th>model</th>\n",
       "      <th>daynum</th>\n",
       "      <th>feature</th>\n",
       "      <th>target</th>\n",
       "      <th>error</th>\n",
       "    </tr>\n",
       "  </thead>\n",
       "  <tbody>\n",
       "    <tr>\n",
       "      <th>0</th>\n",
       "      <td>LinearRegression()</td>\n",
       "      <td>0</td>\n",
       "      <td>allfeatures</td>\n",
       "      <td>Max_temp</td>\n",
       "      <td>-0.208605</td>\n",
       "    </tr>\n",
       "    <tr>\n",
       "      <th>1</th>\n",
       "      <td>LinearRegression()</td>\n",
       "      <td>0</td>\n",
       "      <td>onlytempfeatures</td>\n",
       "      <td>Max_temp</td>\n",
       "      <td>-0.210488</td>\n",
       "    </tr>\n",
       "    <tr>\n",
       "      <th>2</th>\n",
       "      <td>LinearRegression()</td>\n",
       "      <td>0</td>\n",
       "      <td>wind_rainfeatures</td>\n",
       "      <td>Max_temp</td>\n",
       "      <td>-0.877428</td>\n",
       "    </tr>\n",
       "    <tr>\n",
       "      <th>3</th>\n",
       "      <td>LinearRegression()</td>\n",
       "      <td>0</td>\n",
       "      <td>allfeatures</td>\n",
       "      <td>Min_temp</td>\n",
       "      <td>-0.179761</td>\n",
       "    </tr>\n",
       "    <tr>\n",
       "      <th>4</th>\n",
       "      <td>LinearRegression()</td>\n",
       "      <td>0</td>\n",
       "      <td>onlytempfeatures</td>\n",
       "      <td>Min_temp</td>\n",
       "      <td>-0.187652</td>\n",
       "    </tr>\n",
       "    <tr>\n",
       "      <th>...</th>\n",
       "      <td>...</td>\n",
       "      <td>...</td>\n",
       "      <td>...</td>\n",
       "      <td>...</td>\n",
       "      <td>...</td>\n",
       "    </tr>\n",
       "    <tr>\n",
       "      <th>211</th>\n",
       "      <td>MLPRegressor(max_iter=1500, solver='sgd')</td>\n",
       "      <td>7</td>\n",
       "      <td>onlytempfeatures</td>\n",
       "      <td>Min_temp</td>\n",
       "      <td>-0.200629</td>\n",
       "    </tr>\n",
       "    <tr>\n",
       "      <th>212</th>\n",
       "      <td>MLPRegressor(max_iter=1500, solver='sgd')</td>\n",
       "      <td>7</td>\n",
       "      <td>wind_rainfeatures</td>\n",
       "      <td>Min_temp</td>\n",
       "      <td>-0.81521</td>\n",
       "    </tr>\n",
       "    <tr>\n",
       "      <th>213</th>\n",
       "      <td>MLPRegressor(max_iter=1500, solver='sgd')</td>\n",
       "      <td>7</td>\n",
       "      <td>allfeatures</td>\n",
       "      <td>Mean_temp</td>\n",
       "      <td>-0.202918</td>\n",
       "    </tr>\n",
       "    <tr>\n",
       "      <th>214</th>\n",
       "      <td>MLPRegressor(max_iter=1500, solver='sgd')</td>\n",
       "      <td>7</td>\n",
       "      <td>onlytempfeatures</td>\n",
       "      <td>Mean_temp</td>\n",
       "      <td>-0.193558</td>\n",
       "    </tr>\n",
       "    <tr>\n",
       "      <th>215</th>\n",
       "      <td>MLPRegressor(max_iter=1500, solver='sgd')</td>\n",
       "      <td>7</td>\n",
       "      <td>wind_rainfeatures</td>\n",
       "      <td>Mean_temp</td>\n",
       "      <td>-0.819778</td>\n",
       "    </tr>\n",
       "  </tbody>\n",
       "</table>\n",
       "<p>216 rows × 5 columns</p>\n",
       "</div>"
      ],
      "text/plain": [
       "                                         model daynum            feature  \\\n",
       "0                           LinearRegression()      0        allfeatures   \n",
       "1                           LinearRegression()      0   onlytempfeatures   \n",
       "2                           LinearRegression()      0  wind_rainfeatures   \n",
       "3                           LinearRegression()      0        allfeatures   \n",
       "4                           LinearRegression()      0   onlytempfeatures   \n",
       "..                                         ...    ...                ...   \n",
       "211  MLPRegressor(max_iter=1500, solver='sgd')      7   onlytempfeatures   \n",
       "212  MLPRegressor(max_iter=1500, solver='sgd')      7  wind_rainfeatures   \n",
       "213  MLPRegressor(max_iter=1500, solver='sgd')      7        allfeatures   \n",
       "214  MLPRegressor(max_iter=1500, solver='sgd')      7   onlytempfeatures   \n",
       "215  MLPRegressor(max_iter=1500, solver='sgd')      7  wind_rainfeatures   \n",
       "\n",
       "        target     error  \n",
       "0     Max_temp -0.208605  \n",
       "1     Max_temp -0.210488  \n",
       "2     Max_temp -0.877428  \n",
       "3     Min_temp -0.179761  \n",
       "4     Min_temp -0.187652  \n",
       "..         ...       ...  \n",
       "211   Min_temp -0.200629  \n",
       "212   Min_temp  -0.81521  \n",
       "213  Mean_temp -0.202918  \n",
       "214  Mean_temp -0.193558  \n",
       "215  Mean_temp -0.819778  \n",
       "\n",
       "[216 rows x 5 columns]"
      ]
     },
     "execution_count": 42,
     "metadata": {},
     "output_type": "execute_result"
    }
   ],
   "source": [
    "errdf.to_csv(f'output/modelscores.csv')\n",
    "\n",
    "errdf\n",
    "\n",
    "#ModelScores"
   ]
  }
 ],
 "metadata": {
  "kernelspec": {
   "display_name": "Python 3 (ipykernel)",
   "language": "python",
   "name": "python3"
  },
  "language_info": {
   "codemirror_mode": {
    "name": "ipython",
    "version": 3
   },
   "file_extension": ".py",
   "mimetype": "text/x-python",
   "name": "python",
   "nbconvert_exporter": "python",
   "pygments_lexer": "ipython3",
   "version": "3.9.12"
  },
  "vscode": {
   "interpreter": {
    "hash": "52629beb9320ba2fd05c0e8be3925995090a58339b44f134217c54ba794dd7da"
   }
  }
 },
 "nbformat": 4,
 "nbformat_minor": 2
}
