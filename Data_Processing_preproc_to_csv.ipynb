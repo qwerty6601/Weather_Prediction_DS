{
 "cells": [
  {
   "cell_type": "markdown",
   "id": "122c4ba6",
   "metadata": {},
   "source": [
    "# Preprocessing and standard scaler"
   ]
  },
  {
   "cell_type": "code",
   "execution_count": 37,
   "id": "f322d06d",
   "metadata": {},
   "outputs": [],
   "source": [
    "import pandas as pd\n",
    "import math\n",
    "from sklearn.preprocessing import StandardScaler\n",
    "from joblib import dump, load"
   ]
  },
  {
   "cell_type": "code",
   "execution_count": 2,
   "id": "6451def2",
   "metadata": {},
   "outputs": [],
   "source": [
    "train_weather_df = pd.read_csv('./data/train_data.csv')\n",
    "test_weather_df = pd.read_csv('./data/test_data.csv')"
   ]
  },
  {
   "cell_type": "code",
   "execution_count": 23,
   "id": "a485de4a",
   "metadata": {},
   "outputs": [],
   "source": [
    "def preproc(df):\n",
    "    df.rename(columns={'Max temperature (°C)': 'Max_temp'}, inplace=True)\n",
    "    df.rename(columns={'Min temperature (°C)': 'Min_temp'}, inplace=True)\n",
    "    df.rename(columns={'Wind (m/s)': 'Wind_m/s'}, inplace=True)\n",
    "    df.rename(columns={'Precipitation (mm)': \"Precipitation_mm\"}, inplace=True)\n",
    "    df = df.assign(Mean_temp = lambda x: (x['Min_temp'] + x['Max_temp'])/2)\n",
    "    df = df.drop(['Date'], axis = 1)\n",
    "    return df"
   ]
  },
  {
   "cell_type": "code",
   "execution_count": 28,
   "id": "4485749f",
   "metadata": {},
   "outputs": [],
   "source": [
    "traindf = preproc(train_weather_df)\n",
    "testdf = preproc(test_weather_df)"
   ]
  },
  {
   "cell_type": "code",
   "execution_count": 30,
   "id": "7a397177",
   "metadata": {},
   "outputs": [],
   "source": [
    "scaler = StandardScaler()\n",
    "train_scaled = scaler.fit_transform(traindf)\n",
    "test_scaled = scaler.transform(testdf)\n",
    "train_df = pd.DataFrame(train_scaled, index = traindf.index, columns = traindf.columns)\n",
    "test_df = pd.DataFrame(test_scaled, index = testdf.index, columns = testdf.columns)"
   ]
  },
  {
   "cell_type": "code",
   "execution_count": 33,
   "id": "5bae95a8",
   "metadata": {},
   "outputs": [
    {
     "data": {
      "text/plain": [
       "array([16.88940346,  9.56091084,  4.60012829,  1.78005131, 13.22515715])"
      ]
     },
     "execution_count": 33,
     "metadata": {},
     "output_type": "execute_result"
    }
   ],
   "source": [
    "scaler.mean_"
   ]
  },
  {
   "cell_type": "code",
   "execution_count": 34,
   "id": "13d5939e",
   "metadata": {},
   "outputs": [
    {
     "data": {
      "text/plain": [
       "array([100.81968053,  70.15311373,   3.82111608,  17.52236664,\n",
       "        82.99070262])"
      ]
     },
     "execution_count": 34,
     "metadata": {},
     "output_type": "execute_result"
    }
   ],
   "source": [
    "scaler.var_"
   ]
  },
  {
   "cell_type": "code",
   "execution_count": 35,
   "id": "d349d4c6",
   "metadata": {},
   "outputs": [
    {
     "data": {
      "text/plain": [
       "array([10.04090038,  8.37574556,  1.95476753,  4.1859726 ,  9.1099233 ])"
      ]
     },
     "execution_count": 35,
     "metadata": {},
     "output_type": "execute_result"
    }
   ],
   "source": [
    "scaler.scale_"
   ]
  },
  {
   "cell_type": "code",
   "execution_count": 48,
   "id": "7a723111",
   "metadata": {},
   "outputs": [
    {
     "data": {
      "text/plain": [
       "['./preproc/stdscaler.bin']"
      ]
     },
     "execution_count": 48,
     "metadata": {},
     "output_type": "execute_result"
    }
   ],
   "source": [
    "dump(scaler, './preproc/stdscaler.bin', compress=True)"
   ]
  },
  {
   "cell_type": "markdown",
   "id": "edd09404",
   "metadata": {},
   "source": [
    "# Sarah's functions"
   ]
  },
  {
   "cell_type": "code",
   "execution_count": 33,
   "id": "bf776ba3",
   "metadata": {},
   "outputs": [],
   "source": [
    "# def createTimeShiftedDfFromAllFeatures(numPrevDaysWeNeedInfoFor, df):\n",
    "#     columns=['Max_temp', 'Min_temp', 'Wind_m/s', 'Precipitation_mm'] # change to df.getAllColumns\n",
    "#     # Have each row contain weather data from last 7 days\n",
    "#     for i in range(numPrevDaysWeNeedInfoFor):\n",
    "#         for colName in columns:\n",
    "#             # Shift down i+1 (if wanna shift up need to make it (-)) rows and place it in a just-created col all the way to the right \n",
    "#             # which gets name 'colName + (i+1)'\n",
    "#             df[colName+str(i+1)]=df.shift(i+1)[colName]\n",
    "#     df=df.dropna().reset_index(drop=True)\n",
    "#     df.head()\n",
    "#     return df"
   ]
  },
  {
   "cell_type": "code",
   "execution_count": 41,
   "id": "07c8b8a6",
   "metadata": {},
   "outputs": [],
   "source": [
    "def createTimeShiftedDfFromFeatures(numPrevDaysWeNeedInfoFor, df, features):\n",
    "    columns=features \n",
    "    # Have each row contain weather data from last 7 days\n",
    "    for i in range(numPrevDaysWeNeedInfoFor):\n",
    "        for colName in columns:\n",
    "            # Shift down i+1 (if wanna shift up need to make it (-)) rows and place it in a just-created col all the way to the right \n",
    "            # which gets name 'colName + (i+1)'\n",
    "            df[colName+str(i+1)]=df.shift(i+1)[colName]\n",
    "    # print('#### Before drop na' + str(len(df))) # For debugging\n",
    "    # of dropped columns will be numPrevDaysWeNeedInfoFor, since the first n days won't have all the numPrevDaysWeNeedInfoFor days' info\n",
    "    df=df.dropna().reset_index(drop=True) \n",
    "    # print('#### After drop na' + str(len(df))) # For debugging\n",
    "    return df"
   ]
  },
  {
   "cell_type": "markdown",
   "id": "752575e3",
   "metadata": {},
   "source": []
  },
  {
   "cell_type": "code",
   "execution_count": 42,
   "id": "27c8bb73",
   "metadata": {},
   "outputs": [],
   "source": [
    "'''Add target to df'''\n",
    "def addTargetToDf(numDaysAhead, df, raw_df, target):\n",
    "    \n",
    "    targetDf1Col = pd.DataFrame()\n",
    "#     print('Len of raw_df')\n",
    "#     print(len(raw_df))\n",
    "    # E.g. for 1-day ahead: the target (mean) for day0 (day on row 0) is day1's mean, target for day1 is day2's mean, etc\n",
    "    targetDf1Col=(raw_df[target]).iloc[numDaysAhead:]\n",
    "    # Drop last row bc obvs last row* numDaysAhead doesn't have the next numDaysAhead days to set as its target\n",
    "#     print('##TargetDf1Col Length:')\n",
    "#     print(len(targetDf1Col))\n",
    "    df=df.copy().iloc[:-1 * numDaysAhead,:]\n",
    "    df['Target: ' + target]=list(targetDf1Col)\n",
    "    df=df.reset_index(drop=True)\n",
    "    return df"
   ]
  },
  {
   "cell_type": "code",
   "execution_count": 36,
   "id": "96dc77c1",
   "metadata": {},
   "outputs": [],
   "source": [
    "# '''Add target to df'''\n",
    "# def addTargetToDf(numDaysAhead, df, target):\n",
    "    \n",
    "#     targetDf1Col = pd.DataFrame()\n",
    "#     # E.g. for 1-day ahead: the target (mean) for day0 (day on row 0) is day1's mean, target for day1 is day2's mean, etc\n",
    "#     if target == 'Mean_temp':\n",
    "#         targetDf1Col=((df['Min_temp']+df['Max_temp'])/2).iloc[numDaysAhead:]\n",
    "#     else:\n",
    "#         targetDf1Col=(df[target]).iloc[numDaysAhead:]\n",
    "#     # Drop last row bc obvs last row* numDaysAhead doesn't have the next numDaysAhead days to set as its target\n",
    "#     dfWTarget=df.copy().iloc[:-1 * numDaysAhead,:]\n",
    "#     dfWTarget[target]=list(targetDf1Col)\n",
    "#     dfWTarget=dfWTarget.reset_index(drop=True)\n",
    "#     return dfWTarget"
   ]
  },
  {
   "cell_type": "code",
   "execution_count": 51,
   "id": "a9251d72",
   "metadata": {},
   "outputs": [],
   "source": [
    "# @param numDaysAhead: the num of days in the future we want to predict\n",
    "# @param numPrevDaysWeNeedInfoFor: number of days before curr date which we have info for to predict \n",
    "# Mean_temp of temperature 'numDaysAhead' days ahead''' \n",
    "def makeDfForTestAndTrain(df, target, features, numDaysAhead, numPrevDaysWeNeedInfoFor):\n",
    "\n",
    "     \n",
    "    dfDateAndFeatures = df[features]\n",
    "    dfWEachRowHavingPrevXDaysData = createTimeShiftedDfFromFeatures(numPrevDaysWeNeedInfoFor, dfDateAndFeatures, features)\n",
    "    # Need to drop first numPrevDaysWeNeedInfoFor rows since those were dropped in createTimeShiftedDfFromFeatures()\n",
    "    # n length of target col must match len of dfWEachRowHavingPrevXDaysData for addTargetToDf() to work\n",
    "    dfWTarget = addTargetToDf(numDaysAhead, dfWEachRowHavingPrevXDaysData, df.iloc[numPrevDaysWeNeedInfoFor:], target)\n",
    "    #display(dfWTarget)\n",
    "    # dfWTarget will have a len of len(raw_data) - numDaysAhead (last numDaysAhead rows need to be out)- numPrevDaysWeNeedInfoFor (first numPrevDaysWeNeedInfoFor will be out) \n",
    "    return dfWTarget"
   ]
  },
  {
   "cell_type": "code",
   "execution_count": 44,
   "id": "48bb99f7",
   "metadata": {},
   "outputs": [],
   "source": [
    "def split(xPercent, df):\n",
    "    firstXRowsForTest = math.ceil(len(df)*(xPercent/100))\n",
    "    #print(firstXRowsForTest)\n",
    "    #Training data is dates up to right before 1400 row, Test data is dates from 1400th row\n",
    "    # This can be adjusted/ played with\n",
    "    feature_train=df.iloc[:firstXRowsForTest + 1, 1:-1]\n",
    "    target_train=df.iloc[:firstXRowsForTest + 1, -1]\n",
    "    feature_test=df.iloc[firstXRowsForTest + 1:, 1:-1]\n",
    "    target_test=df.iloc[firstXRowsForTest + 1:, -1]\n",
    "    groups = [feature_train, target_train, feature_test, target_test]\n",
    "    return groups"
   ]
  },
  {
   "cell_type": "markdown",
   "id": "7ddcf7c2",
   "metadata": {},
   "source": [
    "# Creating train and test dataframes"
   ]
  },
  {
   "cell_type": "code",
   "execution_count": 49,
   "id": "47822fbb",
   "metadata": {},
   "outputs": [
    {
     "data": {
      "text/plain": [
       "['Max_temp', 'Min_temp', 'Wind_m/s', 'Precipitation_mm', 'Mean_temp']"
      ]
     },
     "execution_count": 49,
     "metadata": {},
     "output_type": "execute_result"
    }
   ],
   "source": [
    "train_df.columns.values.tolist()"
   ]
  },
  {
   "cell_type": "code",
   "execution_count": 70,
   "id": "ab44fc68",
   "metadata": {},
   "outputs": [],
   "source": [
    "FeaturesDict = {'all': ['Wind_m/s', 'Precipitation_mm', 'Min_temp', 'Max_temp', 'Mean_temp'], 'wind_rain' : ['Wind_m/s', 'Precipitation_mm'], 'onlytemp': ['Min_temp', 'Max_temp', 'Mean_temp']}\n",
    "DayList = [1, 6, 29]"
   ]
  },
  {
   "cell_type": "code",
   "execution_count": 71,
   "id": "f0d00283",
   "metadata": {},
   "outputs": [],
   "source": [
    "train_df.name = 'train'\n",
    "test_df.name = 'test'"
   ]
  },
  {
   "cell_type": "code",
   "execution_count": 72,
   "id": "993d10db",
   "metadata": {},
   "outputs": [
    {
     "name": "stderr",
     "output_type": "stream",
     "text": [
      "<ipython-input-41-9e31c70f1d08>:8: SettingWithCopyWarning: \n",
      "A value is trying to be set on a copy of a slice from a DataFrame.\n",
      "Try using .loc[row_indexer,col_indexer] = value instead\n",
      "\n",
      "See the caveats in the documentation: https://pandas.pydata.org/pandas-docs/stable/user_guide/indexing.html#returning-a-view-versus-a-copy\n",
      "  df[colName+str(i+1)]=df.shift(i+1)[colName]\n",
      "<ipython-input-41-9e31c70f1d08>:8: SettingWithCopyWarning: \n",
      "A value is trying to be set on a copy of a slice from a DataFrame.\n",
      "Try using .loc[row_indexer,col_indexer] = value instead\n",
      "\n",
      "See the caveats in the documentation: https://pandas.pydata.org/pandas-docs/stable/user_guide/indexing.html#returning-a-view-versus-a-copy\n",
      "  df[colName+str(i+1)]=df.shift(i+1)[colName]\n",
      "<ipython-input-41-9e31c70f1d08>:8: SettingWithCopyWarning: \n",
      "A value is trying to be set on a copy of a slice from a DataFrame.\n",
      "Try using .loc[row_indexer,col_indexer] = value instead\n",
      "\n",
      "See the caveats in the documentation: https://pandas.pydata.org/pandas-docs/stable/user_guide/indexing.html#returning-a-view-versus-a-copy\n",
      "  df[colName+str(i+1)]=df.shift(i+1)[colName]\n",
      "<ipython-input-41-9e31c70f1d08>:8: SettingWithCopyWarning: \n",
      "A value is trying to be set on a copy of a slice from a DataFrame.\n",
      "Try using .loc[row_indexer,col_indexer] = value instead\n",
      "\n",
      "See the caveats in the documentation: https://pandas.pydata.org/pandas-docs/stable/user_guide/indexing.html#returning-a-view-versus-a-copy\n",
      "  df[colName+str(i+1)]=df.shift(i+1)[colName]\n",
      "<ipython-input-41-9e31c70f1d08>:8: SettingWithCopyWarning: \n",
      "A value is trying to be set on a copy of a slice from a DataFrame.\n",
      "Try using .loc[row_indexer,col_indexer] = value instead\n",
      "\n",
      "See the caveats in the documentation: https://pandas.pydata.org/pandas-docs/stable/user_guide/indexing.html#returning-a-view-versus-a-copy\n",
      "  df[colName+str(i+1)]=df.shift(i+1)[colName]\n",
      "<ipython-input-41-9e31c70f1d08>:8: SettingWithCopyWarning: \n",
      "A value is trying to be set on a copy of a slice from a DataFrame.\n",
      "Try using .loc[row_indexer,col_indexer] = value instead\n",
      "\n",
      "See the caveats in the documentation: https://pandas.pydata.org/pandas-docs/stable/user_guide/indexing.html#returning-a-view-versus-a-copy\n",
      "  df[colName+str(i+1)]=df.shift(i+1)[colName]\n",
      "<ipython-input-41-9e31c70f1d08>:8: SettingWithCopyWarning: \n",
      "A value is trying to be set on a copy of a slice from a DataFrame.\n",
      "Try using .loc[row_indexer,col_indexer] = value instead\n",
      "\n",
      "See the caveats in the documentation: https://pandas.pydata.org/pandas-docs/stable/user_guide/indexing.html#returning-a-view-versus-a-copy\n",
      "  df[colName+str(i+1)]=df.shift(i+1)[colName]\n",
      "<ipython-input-41-9e31c70f1d08>:8: SettingWithCopyWarning: \n",
      "A value is trying to be set on a copy of a slice from a DataFrame.\n",
      "Try using .loc[row_indexer,col_indexer] = value instead\n",
      "\n",
      "See the caveats in the documentation: https://pandas.pydata.org/pandas-docs/stable/user_guide/indexing.html#returning-a-view-versus-a-copy\n",
      "  df[colName+str(i+1)]=df.shift(i+1)[colName]\n",
      "<ipython-input-41-9e31c70f1d08>:8: SettingWithCopyWarning: \n",
      "A value is trying to be set on a copy of a slice from a DataFrame.\n",
      "Try using .loc[row_indexer,col_indexer] = value instead\n",
      "\n",
      "See the caveats in the documentation: https://pandas.pydata.org/pandas-docs/stable/user_guide/indexing.html#returning-a-view-versus-a-copy\n",
      "  df[colName+str(i+1)]=df.shift(i+1)[colName]\n",
      "<ipython-input-41-9e31c70f1d08>:8: SettingWithCopyWarning: \n",
      "A value is trying to be set on a copy of a slice from a DataFrame.\n",
      "Try using .loc[row_indexer,col_indexer] = value instead\n",
      "\n",
      "See the caveats in the documentation: https://pandas.pydata.org/pandas-docs/stable/user_guide/indexing.html#returning-a-view-versus-a-copy\n",
      "  df[colName+str(i+1)]=df.shift(i+1)[colName]\n",
      "<ipython-input-41-9e31c70f1d08>:8: SettingWithCopyWarning: \n",
      "A value is trying to be set on a copy of a slice from a DataFrame.\n",
      "Try using .loc[row_indexer,col_indexer] = value instead\n",
      "\n",
      "See the caveats in the documentation: https://pandas.pydata.org/pandas-docs/stable/user_guide/indexing.html#returning-a-view-versus-a-copy\n",
      "  df[colName+str(i+1)]=df.shift(i+1)[colName]\n",
      "<ipython-input-41-9e31c70f1d08>:8: SettingWithCopyWarning: \n",
      "A value is trying to be set on a copy of a slice from a DataFrame.\n",
      "Try using .loc[row_indexer,col_indexer] = value instead\n",
      "\n",
      "See the caveats in the documentation: https://pandas.pydata.org/pandas-docs/stable/user_guide/indexing.html#returning-a-view-versus-a-copy\n",
      "  df[colName+str(i+1)]=df.shift(i+1)[colName]\n",
      "<ipython-input-41-9e31c70f1d08>:8: SettingWithCopyWarning: \n",
      "A value is trying to be set on a copy of a slice from a DataFrame.\n",
      "Try using .loc[row_indexer,col_indexer] = value instead\n",
      "\n",
      "See the caveats in the documentation: https://pandas.pydata.org/pandas-docs/stable/user_guide/indexing.html#returning-a-view-versus-a-copy\n",
      "  df[colName+str(i+1)]=df.shift(i+1)[colName]\n",
      "<ipython-input-41-9e31c70f1d08>:8: SettingWithCopyWarning: \n",
      "A value is trying to be set on a copy of a slice from a DataFrame.\n",
      "Try using .loc[row_indexer,col_indexer] = value instead\n",
      "\n",
      "See the caveats in the documentation: https://pandas.pydata.org/pandas-docs/stable/user_guide/indexing.html#returning-a-view-versus-a-copy\n",
      "  df[colName+str(i+1)]=df.shift(i+1)[colName]\n",
      "<ipython-input-41-9e31c70f1d08>:8: SettingWithCopyWarning: \n",
      "A value is trying to be set on a copy of a slice from a DataFrame.\n",
      "Try using .loc[row_indexer,col_indexer] = value instead\n",
      "\n",
      "See the caveats in the documentation: https://pandas.pydata.org/pandas-docs/stable/user_guide/indexing.html#returning-a-view-versus-a-copy\n",
      "  df[colName+str(i+1)]=df.shift(i+1)[colName]\n",
      "<ipython-input-41-9e31c70f1d08>:8: SettingWithCopyWarning: \n",
      "A value is trying to be set on a copy of a slice from a DataFrame.\n",
      "Try using .loc[row_indexer,col_indexer] = value instead\n",
      "\n",
      "See the caveats in the documentation: https://pandas.pydata.org/pandas-docs/stable/user_guide/indexing.html#returning-a-view-versus-a-copy\n",
      "  df[colName+str(i+1)]=df.shift(i+1)[colName]\n",
      "<ipython-input-41-9e31c70f1d08>:8: SettingWithCopyWarning: \n",
      "A value is trying to be set on a copy of a slice from a DataFrame.\n",
      "Try using .loc[row_indexer,col_indexer] = value instead\n",
      "\n",
      "See the caveats in the documentation: https://pandas.pydata.org/pandas-docs/stable/user_guide/indexing.html#returning-a-view-versus-a-copy\n",
      "  df[colName+str(i+1)]=df.shift(i+1)[colName]\n",
      "<ipython-input-41-9e31c70f1d08>:8: SettingWithCopyWarning: \n",
      "A value is trying to be set on a copy of a slice from a DataFrame.\n",
      "Try using .loc[row_indexer,col_indexer] = value instead\n",
      "\n",
      "See the caveats in the documentation: https://pandas.pydata.org/pandas-docs/stable/user_guide/indexing.html#returning-a-view-versus-a-copy\n",
      "  df[colName+str(i+1)]=df.shift(i+1)[colName]\n"
     ]
    }
   ],
   "source": [
    "for i in [train_df, test_df]:\n",
    "    for num in DayList:\n",
    "        for k in FeaturesDict:\n",
    "            numDaysAhead = 1\n",
    "            numPrevDayData = num\n",
    "            target = 'Mean_temp'\n",
    "            features = FeaturesDict[k]\n",
    "            makeDfForTestAndTrain(i, target, features, numDaysAhead, numPrevDayData).to_csv(f'preproc/prev{num}_{k}features_{i.name}.csv')"
   ]
  },
  {
   "cell_type": "code",
   "execution_count": null,
   "id": "666e2f96",
   "metadata": {},
   "outputs": [],
   "source": []
  }
 ],
 "metadata": {
  "kernelspec": {
   "display_name": "Python 3.8.8 ('base')",
   "language": "python",
   "name": "python3"
  },
  "language_info": {
   "codemirror_mode": {
    "name": "ipython",
    "version": 3
   },
   "file_extension": ".py",
   "mimetype": "text/x-python",
   "name": "python",
   "nbconvert_exporter": "python",
   "pygments_lexer": "ipython3",
   "version": "3.8.8"
  },
  "vscode": {
   "interpreter": {
    "hash": "52629beb9320ba2fd05c0e8be3925995090a58339b44f134217c54ba794dd7da"
   }
  }
 },
 "nbformat": 4,
 "nbformat_minor": 5
}
