{
 "cells": [
  {
   "cell_type": "markdown",
   "id": "9a42d842",
   "metadata": {
    "pycharm": {
     "name": "#%% md\n"
    }
   },
   "source": [
    "# Import packages"
   ]
  },
  {
   "cell_type": "code",
   "execution_count": 2,
   "id": "d2bbf873",
   "metadata": {
    "pycharm": {
     "name": "#%%\n"
    }
   },
   "outputs": [],
   "source": [
    "import selenium\n",
    "from selenium import webdriver\n",
    "from bs4 import BeautifulSoup\n",
    "import time\n",
    "from selenium.webdriver.common.by import By\n",
    "from selenium.webdriver.support.ui import Select\n",
    "from webdriver_manager.chrome import ChromeDriverManager\n",
    "import lxml\n",
    "\n",
    "import pandas as pd\n",
    "import numpy as np\n",
    "import matplotlib.pyplot as plt\n",
    "import seaborn as sns"
   ]
  },
  {
   "cell_type": "markdown",
   "id": "4b1ffca4",
   "metadata": {
    "pycharm": {
     "name": "#%% md\n"
    }
   },
   "source": [
    "# Scrape the source codes"
   ]
  },
  {
   "cell_type": "code",
   "execution_count": 3,
   "id": "6cb590c8",
   "metadata": {
    "pycharm": {
     "name": "#%%\n"
    }
   },
   "outputs": [
    {
     "name": "stderr",
     "output_type": "stream",
     "text": [
      "[WDM] - Downloading: 100%|██████████| 8.41M/8.41M [00:00<00:00, 17.9MB/s]\n",
      "<ipython-input-3-1ca7785c995b>:1: DeprecationWarning: executable_path has been deprecated, please pass in a Service object\n",
      "  driver = webdriver.Chrome(ChromeDriverManager().install())\n"
     ]
    },
    {
     "ename": "KeyboardInterrupt",
     "evalue": "",
     "output_type": "error",
     "traceback": [
      "\u001b[0;31m---------------------------------------------------------------------------\u001b[0m",
      "\u001b[0;31mKeyboardInterrupt\u001b[0m                         Traceback (most recent call last)",
      "\u001b[0;32m<ipython-input-3-1ca7785c995b>\u001b[0m in \u001b[0;36m<module>\u001b[0;34m\u001b[0m\n\u001b[1;32m     19\u001b[0m         \u001b[0mbutton\u001b[0m \u001b[0;34m=\u001b[0m \u001b[0mdriver\u001b[0m\u001b[0;34m.\u001b[0m\u001b[0mfind_element\u001b[0m\u001b[0;34m(\u001b[0m\u001b[0mBy\u001b[0m\u001b[0;34m.\u001b[0m\u001b[0mID\u001b[0m\u001b[0;34m,\u001b[0m \u001b[0;34m'button'\u001b[0m\u001b[0;34m)\u001b[0m\u001b[0;34m\u001b[0m\u001b[0;34m\u001b[0m\u001b[0m\n\u001b[1;32m     20\u001b[0m         \u001b[0mbutton\u001b[0m\u001b[0;34m.\u001b[0m\u001b[0mclick\u001b[0m\u001b[0;34m(\u001b[0m\u001b[0;34m)\u001b[0m\u001b[0;34m\u001b[0m\u001b[0;34m\u001b[0m\u001b[0m\n\u001b[0;32m---> 21\u001b[0;31m         \u001b[0mtime\u001b[0m\u001b[0;34m.\u001b[0m\u001b[0msleep\u001b[0m\u001b[0;34m(\u001b[0m\u001b[0;36m5\u001b[0m\u001b[0;34m)\u001b[0m\u001b[0;34m\u001b[0m\u001b[0;34m\u001b[0m\u001b[0m\n\u001b[0m\u001b[1;32m     22\u001b[0m         \u001b[0msourcesDictionary\u001b[0m\u001b[0;34m[\u001b[0m\u001b[0myear\u001b[0m\u001b[0;34m+\u001b[0m\u001b[0mmonth\u001b[0m\u001b[0;34m]\u001b[0m\u001b[0;34m=\u001b[0m\u001b[0mdriver\u001b[0m\u001b[0;34m.\u001b[0m\u001b[0mpage_source\u001b[0m\u001b[0;34m\u001b[0m\u001b[0;34m\u001b[0m\u001b[0m\n",
      "\u001b[0;31mKeyboardInterrupt\u001b[0m: "
     ]
    }
   ],
   "source": [
    "driver = webdriver.Chrome(ChromeDriverManager().install())\n",
    "driver.get('http://idojarasbudapest.hu/archivalt-idojaras')\n",
    "\n",
    "time.sleep(5)\n",
    "\n",
    "sourcesDictionary={}\n",
    "years = ['2017', '2018', '2019', '2020', '2021', '2022']\n",
    "months = ['Január', 'Február', 'Március', 'Április', 'Május', 'Június',\n",
    "              'Július', 'Augusztus', 'Szeptember', 'Október', 'November', 'December']\n",
    "for year in years:\n",
    "    \n",
    "    selectYear = Select(driver.find_element(By.ID, 'ev'))\n",
    "    selectYear.select_by_visible_text(year)\n",
    "    \n",
    "    for month in months:     \n",
    "        selectMonth = Select(driver.find_element(By.ID, 'ho'))\n",
    "        selectMonth.select_by_visible_text(month)\n",
    "        \n",
    "        button = driver.find_element(By.ID, 'button')\n",
    "        button.click()\n",
    "        time.sleep(5)\n",
    "        sourcesDictionary[year+month]=driver.page_source"
   ]
  },
  {
   "cell_type": "markdown",
   "id": "c9dd7fa4",
   "metadata": {
    "pycharm": {
     "name": "#%% md\n"
    }
   },
   "source": [
    "# Scrape the tables from the sources and put them into a pandas DataFrame"
   ]
  },
  {
   "cell_type": "code",
   "execution_count": null,
   "id": "65e44071",
   "metadata": {
    "pycharm": {
     "name": "#%%\n"
    },
    "scrolled": false
   },
   "outputs": [],
   "source": [
    "sourcesDictionary.keys()"
   ]
  },
  {
   "cell_type": "code",
   "execution_count": null,
   "id": "closing-collapse",
   "metadata": {
    "pycharm": {
     "name": "#%%\n"
    },
    "scrolled": true
   },
   "outputs": [],
   "source": [
    "# soup = BeautifulSoup(sourcesDictionary['2017Február'])\n",
    "# soup\n",
    "# tempDf = pd.read_html(str(soup.find('table')))[0]\n",
    "# tempDf"
   ]
  },
  {
   "cell_type": "code",
   "execution_count": null,
   "id": "commercial-publisher",
   "metadata": {
    "pycharm": {
     "name": "#%%\n"
    }
   },
   "outputs": [],
   "source": [
    "bpweatherdf = pd.DataFrame()\n",
    "listOfMonthsNotToIncludeFor2017 = ['Január', 'Február', 'Március', 'Április', 'Május', 'Június']\n",
    "for year in years:\n",
    "    for month in months:\n",
    "        if (year == '2017' and month in listOfMonthsNotToIncludeFor2017):\n",
    "            continue\n",
    "        if (year == '2022' and month == 'November'):\n",
    "            break\n",
    "        key = year+month\n",
    "        soup = BeautifulSoup(sourcesDictionary[key]) # soup: html soup\n",
    "        #soup\n",
    "        tempDf = pd.read_html(str(soup.find('table')))[0]\n",
    "        bpweatherdf = pd.concat([bpweatherdf, tempDf], axis=0, ignore_index=True)"
   ]
  },
  {
   "cell_type": "code",
   "execution_count": null,
   "id": "abandoned-hostel",
   "metadata": {
    "pycharm": {
     "name": "#%%\n"
    }
   },
   "outputs": [],
   "source": [
    "bpweatherdf.head(10)"
   ]
  },
  {
   "cell_type": "code",
   "execution_count": null,
   "id": "behavioral-basement",
   "metadata": {
    "pycharm": {
     "name": "#%%\n"
    }
   },
   "outputs": [],
   "source": [
    "bpweatherdf.rename(columns={'Nap': 'Date'}, inplace=True)\n",
    "bpweatherdf.rename(columns={'Tmax  [°C]': 'Max temperature (°C)'}, inplace=True)\n",
    "bpweatherdf.rename(columns={'Tmin  [°C]': 'Min temperature (°C)'}, inplace=True)\n",
    "bpweatherdf.rename(columns={'Szél \\t[m/s]': 'Wind (m/s)'}, inplace=True)\n",
    "bpweatherdf.rename(columns={'Csapadék \\t[mm]': 'Precipitation (mm)'}, inplace=True)\n",
    "\n",
    "bpweatherdf['Date'] = bpweatherdf['Date'].apply(lambda x: x[0:10])"
   ]
  },
  {
   "cell_type": "code",
   "execution_count": null,
   "id": "according-chase",
   "metadata": {
    "pycharm": {
     "name": "#%%\n"
    }
   },
   "outputs": [],
   "source": [
    "bpweatherdf.head(10)"
   ]
  },
  {
   "cell_type": "code",
   "execution_count": null,
   "id": "athletic-proportion",
   "metadata": {
    "pycharm": {
     "name": "#%%\n"
    }
   },
   "outputs": [],
   "source": [
    "bpweatherdf.to_csv('bp_weather_data.csv', index = False)"
   ]
  },
  {
   "cell_type": "markdown",
   "id": "technical-biodiversity",
   "metadata": {
    "pycharm": {
     "name": "#%% md\n"
    }
   },
   "source": [
    "# Visualizations"
   ]
  },
  {
   "cell_type": "markdown",
   "id": "genuine-universe",
   "metadata": {
    "pycharm": {
     "name": "#%% md\n"
    }
   },
   "source": [
    "## Max and min temperatures from July 2017 to October 2022"
   ]
  },
  {
   "cell_type": "code",
   "execution_count": null,
   "id": "illegal-australia",
   "metadata": {
    "pycharm": {
     "name": "#%%\n"
    }
   },
   "outputs": [],
   "source": [
    "temperatures = bpweatherdf[['Date', 'Max temperature (°C)', 'Min temperature (°C)']]\n",
    "sns.lineplot(data=temperatures)"
   ]
  },
  {
   "cell_type": "markdown",
   "id": "amazing-anthropology",
   "metadata": {
    "pycharm": {
     "name": "#%% md\n"
    }
   },
   "source": [
    "## Wind speeds from July 2017 to October 2022"
   ]
  },
  {
   "cell_type": "code",
   "execution_count": null,
   "id": "controlled-waterproof",
   "metadata": {
    "pycharm": {
     "name": "#%%\n"
    }
   },
   "outputs": [],
   "source": [
    "sns.lineplot(data=bpweatherdf, x='Date', y='Wind (m/s)')"
   ]
  },
  {
   "cell_type": "markdown",
   "id": "representative-wagner",
   "metadata": {
    "pycharm": {
     "name": "#%% md\n"
    }
   },
   "source": [
    "## Precipitation from July 2017 to October 2022"
   ]
  },
  {
   "cell_type": "code",
   "execution_count": null,
   "id": "usual-energy",
   "metadata": {
    "pycharm": {
     "name": "#%%\n"
    }
   },
   "outputs": [],
   "source": [
    "sns.lineplot(data=bpweatherdf, x='Date', y='Precipitation (mm)')"
   ]
  },
  {
   "cell_type": "markdown",
   "id": "relevant-morocco",
   "metadata": {
    "pycharm": {
     "name": "#%% md\n"
    }
   },
   "source": [
    "## Max and min temperatures in each year from July 2017 to October 2022"
   ]
  },
  {
   "cell_type": "code",
   "execution_count": null,
   "id": "turkish-shark",
   "metadata": {
    "pycharm": {
     "name": "#%%\n"
    }
   },
   "outputs": [],
   "source": [
    "figure, axes = plt.subplots(2, 3, sharex=True, figsize=(16, 8))\n",
    "figure.suptitle('Max and min temperatures in each year')\n",
    "\n",
    "years = ['2017', '2018', '2019', '2020', '2021', '2022']\n",
    "for year, ax in zip(years, np.ravel(axes)):\n",
    "    ax.set_title(year)\n",
    "    temperatures_in_year = temperatures[temperatures['Date'].str.startswith(year)].reset_index(drop=True)\n",
    "    sns.lineplot(data=temperatures_in_year, ax=ax)"
   ]
  }
 ],
 "metadata": {
  "interpreter": {
   "hash": "bda27ce5c87f4825f401a5f5321d31ed91e0a1134b4ab3ff89704ef2a0d5bef2"
  },
  "kernelspec": {
   "display_name": "Python 3",
   "language": "python",
   "name": "python3"
  },
  "language_info": {
   "codemirror_mode": {
    "name": "ipython",
    "version": 3
   },
   "file_extension": ".py",
   "mimetype": "text/x-python",
   "name": "python",
   "nbconvert_exporter": "python",
   "pygments_lexer": "ipython3",
   "version": "3.9.10"
  }
 },
 "nbformat": 4,
 "nbformat_minor": 5
}
